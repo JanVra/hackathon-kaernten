{
 "cells": [
  {
   "cell_type": "markdown",
   "metadata": {},
   "source": [
    "# Studierendengenerator Notebook\n",
    "Thomas Delissen - September 2023\n",
    "\n",
    "Ziel dieses Notebook ist um Beispieldaten zu generieren für eine Hackathon. \n",
    "\n",
    "Input: \n",
    "- Lehrveranstaltungen von eine Studiengang - lvs.txt\n",
    "- vornamen.csv\n",
    "- nachnamen.csv\n",
    "- (schulabschlusse: Hardcoded in dieses Notebook)\n",
    "\n",
    "Output: \n",
    "- Liste von Studierenden (Absolventen)\n",
    "- Liste von noten von diese Studierenden pro LV\n",
    "\n",
    "Die Studierenden sollten alle LVs abgeschlossen haben. Die Noten werden random generiert, sie sollten aber einigermaßen realistisch sein; das bedeutet das wenn die Studierenden gut sein in Grundlagen des Programmierens, sie auch gut sind in Programmieren für Data Scientist. \n",
    "\n",
    "Ansatz: \n",
    "1. Wir werden zuerst die Tabelle von Studierenden generieren. Jede Studierende bekommt eine unique ID, Name, Gender, und random Schulabschluss. \n",
    "2. Abhängig von Schulabschluss bekommen sie dann eine Random \"Güte\". Diese wird in 4 variable gespeichert. Eine für die allgemeine Intelligenz, dann eine pro Kategorie LV (Allgemein, Statistik, Programmieren). 0 ist schlecht, 1 ist gut. \n",
    "3. Dann werden pro Student alle Noten generiert. Diese werden pro LV random generiert (normal verteilt), wobei die Intelligenz der Student einfluss hat auf die höhe der Note."
   ]
  },
  {
   "cell_type": "code",
   "execution_count": 24,
   "metadata": {},
   "outputs": [],
   "source": [
    "import pandas as pd\n",
    "import numpy as np\n",
    "import random\n"
   ]
  },
  {
   "cell_type": "markdown",
   "metadata": {},
   "source": [
    "## Schritt 1. Generier 400 studenten"
   ]
  },
  {
   "cell_type": "code",
   "execution_count": 7,
   "metadata": {},
   "outputs": [
    {
     "data": {
      "text/html": [
       "<div>\n",
       "<style scoped>\n",
       "    .dataframe tbody tr th:only-of-type {\n",
       "        vertical-align: middle;\n",
       "    }\n",
       "\n",
       "    .dataframe tbody tr th {\n",
       "        vertical-align: top;\n",
       "    }\n",
       "\n",
       "    .dataframe thead th {\n",
       "        text-align: right;\n",
       "    }\n",
       "</style>\n",
       "<table border=\"1\" class=\"dataframe\">\n",
       "  <thead>\n",
       "    <tr style=\"text-align: right;\">\n",
       "      <th></th>\n",
       "      <th>Name</th>\n",
       "      <th>Typ</th>\n",
       "      <th>Geschlecht</th>\n",
       "    </tr>\n",
       "  </thead>\n",
       "  <tbody>\n",
       "    <tr>\n",
       "      <th>0</th>\n",
       "      <td>Aabed</td>\n",
       "      <td>Vorname</td>\n",
       "      <td>M</td>\n",
       "    </tr>\n",
       "    <tr>\n",
       "      <th>1</th>\n",
       "      <td>Aada</td>\n",
       "      <td>Vorname</td>\n",
       "      <td>F</td>\n",
       "    </tr>\n",
       "    <tr>\n",
       "      <th>2</th>\n",
       "      <td>Aaden</td>\n",
       "      <td>Vorname</td>\n",
       "      <td>M</td>\n",
       "    </tr>\n",
       "    <tr>\n",
       "      <th>3</th>\n",
       "      <td>Aadi</td>\n",
       "      <td>Vorname</td>\n",
       "      <td>M</td>\n",
       "    </tr>\n",
       "    <tr>\n",
       "      <th>4</th>\n",
       "      <td>Aadit</td>\n",
       "      <td>Vorname</td>\n",
       "      <td>M</td>\n",
       "    </tr>\n",
       "  </tbody>\n",
       "</table>\n",
       "</div>"
      ],
      "text/plain": [
       "    Name      Typ Geschlecht\n",
       "0  Aabed  Vorname          M\n",
       "1   Aada  Vorname          F\n",
       "2  Aaden  Vorname          M\n",
       "3   Aadi  Vorname          M\n",
       "4  Aadit  Vorname          M"
      ]
     },
     "execution_count": 7,
     "metadata": {},
     "output_type": "execute_result"
    }
   ],
   "source": [
    "vornamen = pd.read_csv(\"Vornamen.csv\")\n",
    "nachnamen = pd.read_csv(\"nachnamen.csv\")\n",
    "vornamen.head()\n",
    "#nachnamen.head()"
   ]
  },
  {
   "cell_type": "code",
   "execution_count": 47,
   "metadata": {},
   "outputs": [],
   "source": [
    "def student(vornamen,nachnamen):\n",
    "    # diese funktion generiert ein Student, als eine Liste von: \n",
    "    # vorname, nachname, geschlecht, schulabschluss\n",
    "    # input sein zwei dataframes, welche alle mögliche vornamen und nachnamen beinhalten\n",
    "    # schulabschluss ist hardcoded in diese Funktion\n",
    "\n",
    "    index = random.randint(0,len(vornamen)-1)\n",
    "    vorname = vornamen.iloc[index][\"Name\"]\n",
    "    # Verbesserungsmöglichkeiten: Geschlecht ist jetzt 50 / 50, was natürlich nicht realistisch ist.\n",
    "    geschlecht = vornamen.iloc[index][\"Geschlecht\"]\n",
    "    nachname = nachnamen[\"Nachname\"].sample().values[0]\n",
    "    # Schulabschluss werde ich verteilen über HTL, HAK, AHS, Sonstige. Ich habe gesampled aus BDS2022 für die Verteilung:\n",
    "    # HTL: 12 / 32. HAK: 8 / 32. AHS: 6 / 32. Sonstige: 6 / 32\n",
    "    # 0 - 0.375 = HAK. 0.375 - 0.625 = HAK. 0.625 - 0.8125 = AHS. Rest = Sonstige\n",
    "    randnr = random.random()\n",
    "    schulabschluss = \"\"\n",
    "    if randnr < 0.375:\n",
    "        schulabschluss = \"HTL\"\n",
    "    elif randnr < 0.625:\n",
    "        schulabschluss = \"HAK\"\n",
    "    elif randnr < 0.8125:\n",
    "        schulabschluss = \"AHS\"\n",
    "    else: \n",
    "        schulabschluss = \"Sonstige\"\n",
    "    \n",
    "    # jetzt generieren wir die \"gute\" dieser student, in vier variable. Diese sollten random normal verteilt sein.\n",
    "    # 0 ist schlecht, 1 ist gut. Es soll nicht kleiner als 0 oder großer als 1 sein, deswegen verwende ich clip\n",
    "    randnr = np.clip(np.random.normal(0.5, 0.25),0,1)\n",
    "    gute = randnr\n",
    "    if schulabschluss == \"HTL\":\n",
    "        gute = np.clip(gute + 0.2,0,1)\n",
    "    elif schulabschluss == \"HAK\":\n",
    "        gute = np.clip(gute + 0.1,0,1)\n",
    "    elif schulabschluss == \"AHS\":\n",
    "        gute = np.clip(gute + 0.05,0,1)\n",
    "    else:\n",
    "        gute = np.clip(gute - 0.1,0,1)\n",
    "\n",
    "    # Das gleiche mach ich jetzt für die 3 Teilbereiche. Sie werden aber auch stark beeinflusst vom generale gute\n",
    "    randnr = np.clip(np.random.normal(gute, 0.25),0,1)\n",
    "    allgemein = np.clip(randnr + 0.2,0,1)\n",
    "    randnr = np.clip(np.random.normal(gute, 0.10),0,1)\n",
    "    statistik = np.clip(randnr,0,1)\n",
    "    randnr = np.clip(np.random.normal(gute, 0.05),0,1)\n",
    "    programmieren = np.clip(randnr-0.2,0,1)\n",
    "\n",
    "    if schulabschluss == \"HTL\":\n",
    "        statistik = np.clip(statistik+0.1,0,1)\n",
    "        programmieren = np.clip(programmieren+0.2,0,1)\n",
    "\n",
    "    return [vorname,nachname,geschlecht,schulabschluss,gute,allgemein,statistik,programmieren]\n",
    "#    print(vorname + \" \" + nachname + \" \" + geschlecht + \" \" + schulabschluss)\n",
    "\n"
   ]
  },
  {
   "cell_type": "code",
   "execution_count": 48,
   "metadata": {},
   "outputs": [
    {
     "name": "stdout",
     "output_type": "stream",
     "text": [
      "['Eghosa', 'Rauter', 'M', 'AHS', 0.36956626564201805, 0.4062656629190726, 0.29426690895676877, 0.1042186524418614]\n"
     ]
    }
   ],
   "source": [
    "print(student(vornamen,nachnamen))"
   ]
  },
  {
   "cell_type": "markdown",
   "metadata": {},
   "source": [
    "## Noten generieren\n",
    "Jetzt gehen wir die Noten generieren, zuerst als eine score zwischen 0 und 1, diese konvertiere ich dann später auf der range 4 bis 1, wobei 1 das beste ist, und 4 das schlechtste. 5 gibt es nicht, weil wir die entscheidung gemacht haben nur die \"passing\" grade zu zeigen. \n",
    "Mean der noten soll so rundum die 2 liegen, ist mein bauchgefühl, weil wir immer zu net sein mit benoten. "
   ]
  },
  {
   "cell_type": "code",
   "execution_count": 91,
   "metadata": {},
   "outputs": [],
   "source": [
    "def get_note(kategorie, gute, allgemein, statistik, programmieren):\n",
    "    # diese Funktion gibt eine note zwischen 4 und 1 zurück (integer), wobei 1 die beste Note ist.\n",
    "    # Kategorie: 1 = allgemein, 2 = Statistik, 3 = programmieren\n",
    "    note = 0\n",
    "    randnr = np.random.normal(gute, 0.35) # man kann gute und schlechte Tage haben\n",
    "    if kategorie == 1:\n",
    "        note = (randnr + allgemein) / 2\n",
    "    elif kategorie == 2: \n",
    "        note = (randnr + statistik) / 2\n",
    "    else:\n",
    "        note = (randnr + programmieren) / 2\n",
    "    # jetzt soll die Note zwischen 0 und 1 sein; in ausnahmefalle großer als 1. \n",
    "\n",
    "    schulnote = -1 # wenn das rauskommt ist etwas schief gegangen\n",
    "    # TWEAKING: Ich habe die thresholds angepasst, so das weniger oft eine 4 rauskommt, und ofter 2 er und 1 er\n",
    "    if note < 0.10 :\n",
    "        schulnote = 4\n",
    "    elif note < 0.4 :\n",
    "        schulnote = 3\n",
    "    elif note < 0.70 :\n",
    "        schulnote = 2\n",
    "    else:\n",
    "        schulnote = 1\n",
    "    return schulnote\n",
    "        \n"
   ]
  },
  {
   "cell_type": "markdown",
   "metadata": {},
   "source": [
    "## Finale: Generieren von gesamt records, und ausschreiben zu CSV\n",
    "Zuerst generieren wir ein Dataframe mit studenten. ID werde ich einfach aufzahlen, nichts komplexes. Variablen ab \"gute\" werden wir nicht exportieren, die sind nur für interne verwendung, um die Noten zu bestimmen"
   ]
  },
  {
   "cell_type": "code",
   "execution_count": 67,
   "metadata": {},
   "outputs": [
    {
     "data": {
      "text/html": [
       "<div>\n",
       "<style scoped>\n",
       "    .dataframe tbody tr th:only-of-type {\n",
       "        vertical-align: middle;\n",
       "    }\n",
       "\n",
       "    .dataframe tbody tr th {\n",
       "        vertical-align: top;\n",
       "    }\n",
       "\n",
       "    .dataframe thead th {\n",
       "        text-align: right;\n",
       "    }\n",
       "</style>\n",
       "<table border=\"1\" class=\"dataframe\">\n",
       "  <thead>\n",
       "    <tr style=\"text-align: right;\">\n",
       "      <th></th>\n",
       "      <th>stud_id</th>\n",
       "      <th>vorname</th>\n",
       "      <th>nachname</th>\n",
       "      <th>geschlecht</th>\n",
       "      <th>schulabschluss</th>\n",
       "      <th>gute</th>\n",
       "      <th>allgemein</th>\n",
       "      <th>statistik</th>\n",
       "      <th>programmieren</th>\n",
       "    </tr>\n",
       "  </thead>\n",
       "  <tbody>\n",
       "    <tr>\n",
       "      <th>0</th>\n",
       "      <td>0</td>\n",
       "      <td>Aliye</td>\n",
       "      <td>Pucher</td>\n",
       "      <td>F</td>\n",
       "      <td>HTL</td>\n",
       "      <td>0.299832</td>\n",
       "      <td>0.218677</td>\n",
       "      <td>0.407495</td>\n",
       "      <td>0.330274</td>\n",
       "    </tr>\n",
       "    <tr>\n",
       "      <th>1</th>\n",
       "      <td>1</td>\n",
       "      <td>Jennifer-Alexandra</td>\n",
       "      <td>Steindl</td>\n",
       "      <td>F</td>\n",
       "      <td>Sonstige</td>\n",
       "      <td>0.587649</td>\n",
       "      <td>1.000000</td>\n",
       "      <td>0.514216</td>\n",
       "      <td>0.378193</td>\n",
       "    </tr>\n",
       "    <tr>\n",
       "      <th>2</th>\n",
       "      <td>2</td>\n",
       "      <td>Jehudit</td>\n",
       "      <td>Hoffmann</td>\n",
       "      <td>F</td>\n",
       "      <td>AHS</td>\n",
       "      <td>0.351863</td>\n",
       "      <td>0.696412</td>\n",
       "      <td>0.398271</td>\n",
       "      <td>0.134583</td>\n",
       "    </tr>\n",
       "    <tr>\n",
       "      <th>3</th>\n",
       "      <td>3</td>\n",
       "      <td>Love</td>\n",
       "      <td>Wurm</td>\n",
       "      <td>M</td>\n",
       "      <td>HTL</td>\n",
       "      <td>0.509851</td>\n",
       "      <td>0.702938</td>\n",
       "      <td>0.607280</td>\n",
       "      <td>0.519547</td>\n",
       "    </tr>\n",
       "    <tr>\n",
       "      <th>4</th>\n",
       "      <td>4</td>\n",
       "      <td>Kadirhan</td>\n",
       "      <td>Pfeiffer</td>\n",
       "      <td>M</td>\n",
       "      <td>AHS</td>\n",
       "      <td>0.257515</td>\n",
       "      <td>0.481299</td>\n",
       "      <td>0.238530</td>\n",
       "      <td>0.052359</td>\n",
       "    </tr>\n",
       "  </tbody>\n",
       "</table>\n",
       "</div>"
      ],
      "text/plain": [
       "   stud_id             vorname  nachname geschlecht schulabschluss      gute  \\\n",
       "0        0               Aliye    Pucher          F            HTL  0.299832   \n",
       "1        1  Jennifer-Alexandra   Steindl          F       Sonstige  0.587649   \n",
       "2        2             Jehudit  Hoffmann          F            AHS  0.351863   \n",
       "3        3                Love      Wurm          M            HTL  0.509851   \n",
       "4        4            Kadirhan  Pfeiffer          M            AHS  0.257515   \n",
       "\n",
       "   allgemein  statistik  programmieren  \n",
       "0   0.218677   0.407495       0.330274  \n",
       "1   1.000000   0.514216       0.378193  \n",
       "2   0.696412   0.398271       0.134583  \n",
       "3   0.702938   0.607280       0.519547  \n",
       "4   0.481299   0.238530       0.052359  "
      ]
     },
     "execution_count": 67,
     "metadata": {},
     "output_type": "execute_result"
    }
   ],
   "source": [
    "menge_studenten = 400\n",
    "id = 0\n",
    "studenten = []\n",
    "for i in range(menge_studenten):\n",
    "    studenten.append([id]+student(vornamen,nachnamen))\n",
    "    id = id+1\n",
    "studentenframe = pd.DataFrame(studenten,columns = [\"stud_id\",\"vorname\",\"nachname\",\"geschlecht\",\"schulabschluss\",\"gute\",\"allgemein\",\"statistik\",\"programmieren\"])\n",
    "studentenframe.head()"
   ]
  },
  {
   "cell_type": "code",
   "execution_count": 92,
   "metadata": {},
   "outputs": [
    {
     "data": {
      "text/html": [
       "<div>\n",
       "<style scoped>\n",
       "    .dataframe tbody tr th:only-of-type {\n",
       "        vertical-align: middle;\n",
       "    }\n",
       "\n",
       "    .dataframe tbody tr th {\n",
       "        vertical-align: top;\n",
       "    }\n",
       "\n",
       "    .dataframe thead th {\n",
       "        text-align: right;\n",
       "    }\n",
       "</style>\n",
       "<table border=\"1\" class=\"dataframe\">\n",
       "  <thead>\n",
       "    <tr style=\"text-align: right;\">\n",
       "      <th></th>\n",
       "      <th>Semester</th>\n",
       "      <th>LV Name</th>\n",
       "      <th>ECTS</th>\n",
       "      <th>Kategorie</th>\n",
       "      <th>lv_id</th>\n",
       "    </tr>\n",
       "  </thead>\n",
       "  <tbody>\n",
       "    <tr>\n",
       "      <th>0</th>\n",
       "      <td>1</td>\n",
       "      <td>Einführung in die Datenanalyse</td>\n",
       "      <td>5</td>\n",
       "      <td>1</td>\n",
       "      <td>1</td>\n",
       "    </tr>\n",
       "    <tr>\n",
       "      <th>1</th>\n",
       "      <td>1</td>\n",
       "      <td>Einführung in die Ökonomie</td>\n",
       "      <td>2</td>\n",
       "      <td>1</td>\n",
       "      <td>2</td>\n",
       "    </tr>\n",
       "    <tr>\n",
       "      <th>2</th>\n",
       "      <td>1</td>\n",
       "      <td>Grundlagen der Mathematik</td>\n",
       "      <td>5</td>\n",
       "      <td>2</td>\n",
       "      <td>3</td>\n",
       "    </tr>\n",
       "    <tr>\n",
       "      <th>3</th>\n",
       "      <td>1</td>\n",
       "      <td>Grundlagen der Statistik</td>\n",
       "      <td>5</td>\n",
       "      <td>2</td>\n",
       "      <td>4</td>\n",
       "    </tr>\n",
       "    <tr>\n",
       "      <th>4</th>\n",
       "      <td>1</td>\n",
       "      <td>Grundlagen des Programmierens</td>\n",
       "      <td>5</td>\n",
       "      <td>3</td>\n",
       "      <td>5</td>\n",
       "    </tr>\n",
       "  </tbody>\n",
       "</table>\n",
       "</div>"
      ],
      "text/plain": [
       "   Semester                         LV Name  ECTS  Kategorie  lv_id\n",
       "0         1  Einführung in die Datenanalyse     5          1      1\n",
       "1         1      Einführung in die Ökonomie     2          1      2\n",
       "2         1       Grundlagen der Mathematik     5          2      3\n",
       "3         1        Grundlagen der Statistik     5          2      4\n",
       "4         1   Grundlagen des Programmierens     5          3      5"
      ]
     },
     "execution_count": 92,
     "metadata": {},
     "output_type": "execute_result"
    }
   ],
   "source": [
    "lvs = pd.read_csv(\"LVs.txt\",sep=\";\")\n",
    "lvs[\"lv_id\"] = range(1, len(lvs) + 1)\n",
    "lvs.head()"
   ]
  },
  {
   "cell_type": "code",
   "execution_count": 93,
   "metadata": {},
   "outputs": [
    {
     "name": "stdout",
     "output_type": "stream",
     "text": [
      "400\n",
      "22\n",
      "8800\n"
     ]
    }
   ],
   "source": [
    "# Now we will loop through the Students, and for each Student, we will loop through the LVs. \n",
    "# For each Student LV combination, we will generate a grade using the function defined above. \n",
    "\n",
    "noteliste = []\n",
    "for i in range(0,len(studentenframe)):\n",
    "    stud_id = studentenframe.iloc[i][\"stud_id\"]\n",
    "    gute = studentenframe.iloc[i][\"gute\"]\n",
    "    allgemein = studentenframe.iloc[i][\"allgemein\"]\n",
    "    statistik = studentenframe.iloc[i][\"statistik\"]\n",
    "    programmieren = studentenframe.iloc[i][\"programmieren\"]\n",
    "    for j in range(0,len(lvs)):\n",
    "        lv_id = lvs.iloc[j][\"lv_id\"]\n",
    "        kategorie = lvs.iloc[j][\"Kategorie\"]\n",
    "        note = get_note(kategorie, gute, allgemein, statistik, programmieren)\n",
    "        noteliste.append([stud_id,lv_id,note])\n",
    "\n",
    "print(len(studentenframe))\n",
    "print(len(lvs))\n",
    "print(len(noteliste))\n"
   ]
  },
  {
   "cell_type": "markdown",
   "metadata": {},
   "source": [
    "### Export\n",
    "Alle Daten sind jetzt synthetisiert, wir sollen sie nur noch ausschreiben. lvs und noteliste können so ausgeschrieben werden, vom studentenframe sollten noch die \"interne\" spalten gedropt werden. "
   ]
  },
  {
   "cell_type": "code",
   "execution_count": 94,
   "metadata": {},
   "outputs": [],
   "source": [
    "studentenoutput = studentenframe[[\"stud_id\",\"vorname\",\"nachname\",\"geschlecht\",\"schulabschluss\"]]\n",
    "studentenoutput.to_csv(\"studierenden.csv\",index=False)"
   ]
  },
  {
   "cell_type": "code",
   "execution_count": 95,
   "metadata": {},
   "outputs": [],
   "source": [
    "lvs.to_csv(\"lvliste.csv\",index=False)"
   ]
  },
  {
   "cell_type": "code",
   "execution_count": 96,
   "metadata": {},
   "outputs": [],
   "source": [
    "notenframe = pd.DataFrame(noteliste,columns=[\"stud_id\",\"lv_id\",\"note\"])\n",
    "notenframe.to_csv(\"noteliste.csv\",index=False)"
   ]
  },
  {
   "cell_type": "code",
   "execution_count": null,
   "metadata": {},
   "outputs": [],
   "source": []
  }
 ],
 "metadata": {
  "kernelspec": {
   "display_name": "Python 3",
   "language": "python",
   "name": "python3"
  },
  "language_info": {
   "codemirror_mode": {
    "name": "ipython",
    "version": 3
   },
   "file_extension": ".py",
   "mimetype": "text/x-python",
   "name": "python",
   "nbconvert_exporter": "python",
   "pygments_lexer": "ipython3",
   "version": "3.11.4"
  },
  "orig_nbformat": 4
 },
 "nbformat": 4,
 "nbformat_minor": 2
}
